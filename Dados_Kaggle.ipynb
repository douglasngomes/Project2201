{
  "nbformat": 4,
  "nbformat_minor": 0,
  "metadata": {
    "colab": {
      "name": "Untitled4.ipynb",
      "provenance": [],
      "authorship_tag": "ABX9TyPCnA/CFUnIvEoc38VW+/VO",
      "include_colab_link": true
    },
    "kernelspec": {
      "name": "python3",
      "display_name": "Python 3"
    },
    "language_info": {
      "name": "python"
    }
  },
  "cells": [
    {
      "cell_type": "markdown",
      "metadata": {
        "id": "view-in-github",
        "colab_type": "text"
      },
      "source": [
        "<a href=\"https://colab.research.google.com/github/douglasngomes/Project2201/blob/main/Dados_Kaggle.ipynb\" target=\"_parent\"><img src=\"https://colab.research.google.com/assets/colab-badge.svg\" alt=\"Open In Colab\"/></a>"
      ]
    },
    {
      "cell_type": "code",
      "execution_count": 1,
      "metadata": {
        "colab": {
          "base_uri": "https://localhost:8080/"
        },
        "id": "VPInA4DsltQZ",
        "outputId": "1af6f1a9-e7ab-4568-b27f-fc66c904e4d0"
      },
      "outputs": [
        {
          "output_type": "stream",
          "name": "stdout",
          "text": [
            "Versão da Linguagem Python Usada Neste Jupyter Notebook: 3.7.12\n"
          ]
        }
      ],
      "source": [
        "# Mini-Projeto - Análise Exploratória em Conjunto de Dados do Kaggle\n",
        "\n",
        "# Versão da Linguagem Python\n",
        "from platform import python_version\n",
        "print('Versão da Linguagem Python Usada Neste Jupyter Notebook:', python_version())\n"
      ]
    },
    {
      "cell_type": "code",
      "source": [
        "# Imports\n",
        "import os\n",
        "import subprocess\n",
        "import stat\n",
        "import numpy as np\n",
        "import pandas as pd\n",
        "import seaborn as sns\n",
        "import matplotlib as mat\n",
        "import matplotlib.pyplot as plt\n",
        "from datetime import datetime\n",
        "sns.set(style=\"white\")\n",
        "%matplotlib inline"
      ],
      "metadata": {
        "id": "1DSACGaul1AB"
      },
      "execution_count": 2,
      "outputs": []
    },
    {
      "cell_type": "code",
      "source": [
        "# Dataset\n",
        "clean_data_path = \"dataset/autos.csv\"\n",
        "df = pd.read_csv(clean_data_path,encoding=\"latin-1\")"
      ],
      "metadata": {
        "id": "SdT1sZYcl1iw"
      },
      "execution_count": null,
      "outputs": []
    },
    {
      "cell_type": "code",
      "source": [
        "# Calcule a média de preço por marca e por veículo\n",
        "trial = pd.DataFrame()\n",
        "for b in list(df[\"brand\"].unique()):\n",
        "    for v in list(df[\"vehicleType\"].unique()):\n",
        "        z = df[(df[\"brand\"] == b) & (df[\"vehicleType\"] == v)][\"price\"].mean()\n",
        "        trial = trial.append(pd.DataFrame({'brand':b , 'vehicleType':v , 'avgPrice':z}, index=[0]))\n",
        "trial = trial.reset_index()\n",
        "del trial[\"index\"]\n",
        "trial[\"avgPrice\"].fillna(0,inplace=True)\n",
        "trial[\"avgPrice\"].isnull().value_counts()\n",
        "trial[\"avgPrice\"] = trial[\"avgPrice\"].astype(int)\n",
        "trial.head(5)"
      ],
      "metadata": {
        "id": "8-U95L8fmbOb"
      },
      "execution_count": null,
      "outputs": []
    },
    {
      "cell_type": "code",
      "source": [
        "# Preço médio de um veículo por marca, bem como tipo de veículo\n",
        "\n",
        "# Crie um Heatmap com Preço médio de um veículo por marca, bem como tipo de veículo\n",
        "tri = trial.pivot(\"brand\",\"vehicleType\", \"avgPrice\")\n",
        "fig, ax = plt.subplots(figsize=(15,20))\n",
        "sns.heatmap(tri,linewidths=1,cmap=\"YlGnBu\",annot=True, ax=ax, fmt=\"d\")\n",
        "ax.set_title(\"Heatmap - Preço médio de um veículo por marca e tipo de veículo\",fontdict={'size':20})\n",
        "ax.xaxis.set_label_text(\"Tipo de Veículo\",fontdict= {'size':20})\n",
        "ax.yaxis.set_label_text(\"Marca\",fontdict= {'size':20})\n",
        "plt.show()"
      ],
      "metadata": {
        "id": "FaxJnC2Hmbms"
      },
      "execution_count": null,
      "outputs": []
    },
    {
      "cell_type": "code",
      "source": [
        "# Salvando o plot\n",
        "fig.savefig(\"plots/Analise4/heatmap-price-brand-vehicleType.png\")"
      ],
      "metadata": {
        "id": "_jmi7p6umb9T"
      },
      "execution_count": null,
      "outputs": []
    }
  ]
}